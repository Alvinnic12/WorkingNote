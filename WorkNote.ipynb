{
  "nbformat": 4,
  "nbformat_minor": 0,
  "metadata": {
    "colab": {
      "provenance": [],
      "name": "WorkNote.ipynb",
      "authorship_tag": "ABX9TyO/ZZ/MiQjkCjeBsvVblgJ2",
      "include_colab_link": true
    },
    "kernelspec": {
      "name": "python3",
      "display_name": "Python 3"
    },
    "language_info": {
      "name": "python"
    },
    "widgets": {
      "application/vnd.jupyter.widget-state+json": {
        "9161d5d93d5f4c71bce6fcc017d29164": {
          "model_module": "@jupyter-widgets/controls",
          "model_name": "TextareaModel",
          "model_module_version": "1.5.0",
          "state": {
            "_dom_classes": [],
            "_model_module": "@jupyter-widgets/controls",
            "_model_module_version": "1.5.0",
            "_model_name": "TextareaModel",
            "_view_count": null,
            "_view_module": "@jupyter-widgets/controls",
            "_view_module_version": "1.5.0",
            "_view_name": "TextareaView",
            "continuous_update": true,
            "description": "String:",
            "description_tooltip": null,
            "disabled": false,
            "layout": "IPY_MODEL_d80cdd052e95464fbf539daf888a3d7b",
            "placeholder": "Type something",
            "rows": null,
            "style": "IPY_MODEL_417eff82499a4d37a6f119f39b4b5bee",
            "value": "You are an equity research analyst excellent at writing financial summary. Please improve this writing. Try your best to keep the original wordings with shorter length. Please using common English expressions. Dont use full sentences."
          }
        },
        "d80cdd052e95464fbf539daf888a3d7b": {
          "model_module": "@jupyter-widgets/base",
          "model_name": "LayoutModel",
          "model_module_version": "1.2.0",
          "state": {
            "_model_module": "@jupyter-widgets/base",
            "_model_module_version": "1.2.0",
            "_model_name": "LayoutModel",
            "_view_count": null,
            "_view_module": "@jupyter-widgets/base",
            "_view_module_version": "1.2.0",
            "_view_name": "LayoutView",
            "align_content": null,
            "align_items": null,
            "align_self": null,
            "border": null,
            "bottom": null,
            "display": null,
            "flex": null,
            "flex_flow": null,
            "grid_area": null,
            "grid_auto_columns": null,
            "grid_auto_flow": null,
            "grid_auto_rows": null,
            "grid_column": null,
            "grid_gap": null,
            "grid_row": null,
            "grid_template_areas": null,
            "grid_template_columns": null,
            "grid_template_rows": null,
            "height": "250px",
            "justify_content": null,
            "justify_items": null,
            "left": null,
            "margin": null,
            "max_height": null,
            "max_width": null,
            "min_height": null,
            "min_width": null,
            "object_fit": null,
            "object_position": null,
            "order": null,
            "overflow": null,
            "overflow_x": null,
            "overflow_y": null,
            "padding": null,
            "right": null,
            "top": null,
            "visibility": null,
            "width": "1400px"
          }
        },
        "417eff82499a4d37a6f119f39b4b5bee": {
          "model_module": "@jupyter-widgets/controls",
          "model_name": "DescriptionStyleModel",
          "model_module_version": "1.5.0",
          "state": {
            "_model_module": "@jupyter-widgets/controls",
            "_model_module_version": "1.5.0",
            "_model_name": "DescriptionStyleModel",
            "_view_count": null,
            "_view_module": "@jupyter-widgets/base",
            "_view_module_version": "1.2.0",
            "_view_name": "StyleView",
            "description_width": ""
          }
        }
      }
    }
  },
  "cells": [
    {
      "cell_type": "markdown",
      "metadata": {
        "id": "view-in-github",
        "colab_type": "text"
      },
      "source": [
        "<a href=\"https://colab.research.google.com/github/Alvinnic12/WorkingNote/blob/main/WorkNote.ipynb\" target=\"_parent\"><img src=\"https://colab.research.google.com/assets/colab-badge.svg\" alt=\"Open In Colab\"/></a>"
      ]
    },
    {
      "cell_type": "code",
      "source": [
        "\n",
        "openai.api_key = \"\n",
        "\n",
        "\n",
        "Task:\n",
        "I will send you a transcript from a Taiwanese/Chinese/Korean company meeting.\n",
        "The speaker is not a native English speaker and there would be mistake in the transcript due to speaker's accent.\n",
        "Please try to understand the context of the meeting despite these potential mistake in the transcript.\n",
        "Your job is to give me a numbered full list of specific questions and topic being discussed the meeting including all the questions from Q&A Session if there is a Q&A Session with continuous numbering.\n",
        "In Q&A Session, if a speaker asked two questions, please separate these questions.\n",
        "No separated session for Q&A Session is needed but mark it as [Q&A Session].\n",
        "Please be very specific and detailed on the questions and topics you list out.\n",
        "Please don't miss out any question or topic in the transcript.\n",
        "Take pride in your work and give it your best.\n",
        "\n",
        "\n",
        "\n",
        "\n",
        "\n",
        "\"\n"
      ],
      "metadata": {
        "colab": {
          "base_uri": "https://localhost:8080/",
          "height": 271,
          "referenced_widgets": [
            "9161d5d93d5f4c71bce6fcc017d29164",
            "d80cdd052e95464fbf539daf888a3d7b",
            "417eff82499a4d37a6f119f39b4b5bee"
          ]
        },
        "id": "vuHYipCHtM9d",
        "outputId": "be8f00ef-9bf5-4721-8cd7-f911a581d8f4"
      },
      "execution_count": null,
      "outputs": [
        {
          "output_type": "display_data",
          "data": {
            "text/plain": [
              "Textarea(value='You are an equity research analyst excellent at writing financial summary. Please improve this…"
            ],
            "application/vnd.jupyter.widget-view+json": {
              "version_major": 2,
              "version_minor": 0,
              "model_id": "9161d5d93d5f4c71bce6fcc017d29164"
            }
          },
          "metadata": {}
        }
      ]
    }
  ]
}